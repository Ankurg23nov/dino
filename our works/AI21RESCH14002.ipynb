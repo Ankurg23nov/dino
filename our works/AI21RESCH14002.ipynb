{
 "cells": [
  {
   "cell_type": "markdown",
   "metadata": {
    "id": "POK4bqeZgXr7"
   },
   "source": [
    "**Emerging Properties in Self-Supervised Vision Transformers : https://arxiv.org/pdf/2104.14294.pdf**\n",
    "\n",
    "*Replicating result (Table 5) for DAVIS 2017 Video object segmentation from  above paper* "
   ]
  },
  {
   "cell_type": "code",
   "execution_count": null,
   "metadata": {
    "id": "uyfFc8VufUyl"
   },
   "outputs": [],
   "source": [
    "################################################################################\n",
    "# INSTALL CONDA ON GOOGLE COLAB\n",
    "################################################################################\n",
    "! wget https://repo.anaconda.com/miniconda/Miniconda3-py37_4.8.2-Linux-x86_64.sh\n",
    "! chmod +x Miniconda3-py37_4.8.2-Linux-x86_64.sh\n",
    "! bash ./Miniconda3-py37_4.8.2-Linux-x86_64.sh -b -f -p /usr/local\n",
    "import sys\n",
    "sys.path.append('/usr/local/lib/python3.7/site-packages/')"
   ]
  },
  {
   "cell_type": "code",
   "execution_count": null,
   "metadata": {
    "id": "4JWrMvRUldXZ"
   },
   "outputs": [],
   "source": [
    "!conda update -n base -c defaults conda -y\n"
   ]
  },
  {
   "cell_type": "code",
   "execution_count": null,
   "metadata": {
    "id": "M8MeOz0miqJ1"
   },
   "outputs": [],
   "source": [
    "! conda create --name py36 python=3.6 -y\n"
   ]
  },
  {
   "cell_type": "code",
   "execution_count": null,
   "metadata": {
    "id": "DdXluwoJrD4x"
   },
   "outputs": [],
   "source": [
    "%%bash\n",
    "source activate py36\n",
    "conda install pytorch==1.7.1 torchvision==0.8.2 torchaudio==0.7.2 cudatoolkit=11.0 -c pytorch"
   ]
  },
  {
   "cell_type": "code",
   "execution_count": null,
   "metadata": {
    "id": "lkd4raCt_pN8"
   },
   "outputs": [],
   "source": [
    "%%bash\n",
    "mkdir Dino_Proj\n",
    "cd Dino_Proj/\n",
    "git clone https://github.com/facebookresearch/dino.git"
   ]
  },
  {
   "cell_type": "code",
   "execution_count": null,
   "metadata": {
    "id": "JFIPSdb_xNGv"
   },
   "outputs": [],
   "source": [
    "%%bash\n",
    "cd Dino_Proj/\n",
    "git clone https://github.com/davisvideochallenge/davis-2017 && cd davis-2017\n",
    "cd davis-2017\n",
    "pwd\n",
    "./data/get_davis.sh\n",
    "# python eval_video_segmentation.py --data_path /content/Dino/davis-2017/DAVIS/ --output_dir /content/Dino/davis-2017/output/\n",
    "pwd\n"
   ]
  },
  {
   "cell_type": "code",
   "execution_count": null,
   "metadata": {
    "id": "TnuWYu9LHxjq"
   },
   "outputs": [],
   "source": [
    "%%bash\n",
    "source activate py36\n",
    "conda install scikit-image"
   ]
  },
  {
   "cell_type": "code",
   "execution_count": null,
   "metadata": {
    "id": "OLutyMues1F3"
   },
   "outputs": [],
   "source": [
    "%%bash\n",
    "source activate py36\n",
    "conda install tqdm"
   ]
  },
  {
   "cell_type": "code",
   "execution_count": null,
   "metadata": {
    "id": "2sDet2Sus1Wi"
   },
   "outputs": [],
   "source": [
    "%%bash\n",
    "source activate py36\n",
    "conda install opencv"
   ]
  },
  {
   "cell_type": "code",
   "execution_count": null,
   "metadata": {
    "id": "kXuMN2c4szan"
   },
   "outputs": [],
   "source": [
    "%%bash\n",
    "source activate py36\n",
    "conda install pandas"
   ]
  },
  {
   "cell_type": "code",
   "execution_count": null,
   "metadata": {
    "id": "dx0TBpA1-Ov3"
   },
   "outputs": [],
   "source": [
    "%%bash\n",
    "mkdir /content/Dino_Proj/davis-2017/output/\n",
    "source activate py36\n",
    "cd Dino_Proj/dino/\n",
    "python eval_video_segmentation.py --data_path /content/Dino_Proj/davis-2017/DAVIS/ --output_dir /content/Dino_Proj/davis-2017/output/"
   ]
  },
  {
   "cell_type": "code",
   "execution_count": null,
   "metadata": {
    "id": "yoUqBRA2Vgah"
   },
   "outputs": [],
   "source": [
    "%%bash\n",
    "cd Dino_Proj\n",
    "git clone https://github.com/davisvideochallenge/davis2017-evaluation  /content/Dino_Proj/davis2017-evaluation"
   ]
  },
  {
   "cell_type": "code",
   "execution_count": null,
   "metadata": {
    "id": "CEHQePsLISwR"
   },
   "outputs": [],
   "source": [
    "%%bash\n",
    "source activate py36\n",
    "python /content/Dino_Proj/davis2017-evaluation/evaluation_method.py --task semi-supervised --results_path /content/Dino_Proj/davis-2017/output --davis_path /content/Dino_Proj/davis-2017/DAVIS/"
   ]
  },
  {
   "cell_type": "markdown",
   "metadata": {
    "id": "jTy7IdBSmX8z"
   },
   "source": [
    "**DAVIS 2017 Video object segmentation : Table 5 from paper**"
   ]
  },
  {
   "cell_type": "code",
   "execution_count": 14,
   "metadata": {
    "colab": {
     "base_uri": "https://localhost:8080/"
    },
    "executionInfo": {
     "elapsed": 657,
     "status": "ok",
     "timestamp": 1648790948919,
     "user": {
      "displayName": "romi srivastava",
      "userId": "00842908771022355131"
     },
     "user_tz": -330
    },
    "id": "ptbJvfqzWdVr",
    "outputId": "d8e8a70e-5c67-4522-c006-bef82c9972a7"
   },
   "outputs": [
    {
     "name": "stdout",
     "output_type": "stream",
     "text": [
      "Davis Results, Table 5 from paper :\n",
      "\n",
      " Global Results \n",
      "   J&F-Mean  J-Mean  J-Recall  J-Decay  F-Mean  F-Recall  F-Decay\n",
      "0     0.616   0.599     0.735    0.134   0.633     0.761    0.186\n",
      "\n",
      "Per-sequence_results :\n",
      "           Sequence  J-Mean  F-Mean\n",
      "0   bike-packing_1   0.513   0.699\n",
      "1   bike-packing_2   0.737   0.764\n",
      "2      blackswan_1   0.884   0.915\n",
      "3      bmx-trees_1   0.341   0.733\n",
      "4      bmx-trees_2   0.531   0.697\n",
      "..             ...     ...     ...\n",
      "56      shooting_2   0.824   0.735\n",
      "57      shooting_3   0.713   0.907\n",
      "58       soapbox_1   0.509   0.567\n",
      "59       soapbox_2   0.318   0.402\n",
      "60       soapbox_3   0.216   0.446\n",
      "\n",
      "[61 rows x 3 columns]\n"
     ]
    }
   ],
   "source": [
    "%%bash\n",
    "source activate py36\n",
    "python\n",
    "import pandas as pd\n",
    "df = pd.read_csv('/content/Dino_Proj/davis-2017/output/global_results-val.csv')\n",
    "print(f'Davis Results, Table 5 from paper :\\n\\n Global Results \\n{df}')\n",
    "df = pd.read_csv('/content/Dino_Proj/davis-2017/output/per-sequence_results-val.csv')\n",
    "print(f'\\nPer-sequence_results :\\n {df}')"
   ]
  },
  {
   "cell_type": "code",
   "execution_count": 14,
   "metadata": {
    "executionInfo": {
     "elapsed": 6,
     "status": "ok",
     "timestamp": 1648790948920,
     "user": {
      "displayName": "romi srivastava",
      "userId": "00842908771022355131"
     },
     "user_tz": -330
    },
    "id": "WnjW53-_YRpI"
   },
   "outputs": [],
   "source": []
  }
 ],
 "metadata": {
  "accelerator": "GPU",
  "colab": {
   "collapsed_sections": [],
   "name": "AI21RESCH14002.ipynb",
   "provenance": [
    {
     "file_id": "1qIrmgTccX3c-qlc5RnNfSXn-dpc9YTl3",
     "timestamp": 1648759747801
    },
    {
     "file_id": "https://github.com/dataprofessor/code/blob/master/python/google_colab_install_conda.ipynb",
     "timestamp": 1648754072308
    }
   ]
  },
  "kernelspec": {
   "display_name": "Python 3",
   "language": "python",
   "name": "python3"
  },
  "language_info": {
   "codemirror_mode": {
    "name": "ipython",
    "version": 3
   },
   "file_extension": ".py",
   "mimetype": "text/x-python",
   "name": "python",
   "nbconvert_exporter": "python",
   "pygments_lexer": "ipython3",
   "version": "3.8.8"
  }
 },
 "nbformat": 4,
 "nbformat_minor": 1
}
